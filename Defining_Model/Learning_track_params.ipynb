{
 "cells": [
  {
   "cell_type": "code",
   "execution_count": 24,
   "id": "4adfb36c-5e19-4d13-aa7c-f495b85eac5b",
   "metadata": {},
   "outputs": [],
   "source": [
    "import os\n",
    "import pandas as pd\n",
    "import numpy as np\n",
    "import torch\n",
    "import torch.nn as nn\n",
    "import torch.optim as optim\n",
    "from sklearn.cluster import KMeans\n",
    "from sklearn.preprocessing import StandardScaler\n",
    "import pickle\n",
    "import json\n"
   ]
  },
  {
   "cell_type": "code",
   "execution_count": 25,
   "id": "3a353426-2bf2-4815-a0b3-69fde9d92e6e",
   "metadata": {},
   "outputs": [],
   "source": [
    "# Load reference files\n",
    "races = pd.read_csv('../data/races.csv')\n",
    "circuits = pd.read_csv('../data/circuits.csv')\n",
    "pit_stops = pd.read_csv('../data/pit_stops.csv')\n",
    "\n",
    "# Path to cleaned data directory\n",
    "cleaned_data_path = '../cleaned_data'\n"
   ]
  },
  {
   "cell_type": "code",
   "execution_count": 29,
   "id": "4ea9b88e-44ef-4f61-b767-dd42f22d46b2",
   "metadata": {},
   "outputs": [],
   "source": [
    "# Dictionary to store processed race data\n",
    "races_cleaned = {}\n",
    "\n",
    "# Load cleaned data\n",
    "for race_folder in os.listdir(cleaned_data_path):\n",
    "    try:\n",
    "        race_id = int(race_folder.replace('race_', ''))\n",
    "    except ValueError:\n",
    "        continue  # Skip invalid folders\n",
    "    \n",
    "    race_path = os.path.join(cleaned_data_path, race_folder)\n",
    "    \n",
    "    try:\n",
    "        lap_times = pd.read_csv(os.path.join(race_path, 'lap_times.csv'))\n",
    "        gaps_to_leader = pd.read_csv(os.path.join(race_path, 'gaps_to_leader.csv'))\n",
    "        gaps_to_car_ahead = pd.read_csv(os.path.join(race_path, 'gaps_to_car_ahead.csv'))\n",
    "        \n",
    "        with open(os.path.join(race_path, 'pit_stops.json'), 'r') as f:\n",
    "            pit_stops_data = json.load(f)\n",
    "        \n",
    "        # Get circuitId from races.csv\n",
    "        if race_id in races['raceId'].values:\n",
    "            circuit_id = races.loc[races['raceId'] == race_id, 'circuitId'].values[0]\n",
    "\n",
    "            races_cleaned[race_id] = {\n",
    "                'circuitId': circuit_id,\n",
    "                'lap_times': lap_times,\n",
    "                'gaps_to_leader': gaps_to_leader,\n",
    "                'gaps_to_car_ahead': gaps_to_car_ahead,\n",
    "                'pit_stops': pit_stops_data\n",
    "            }\n",
    "        else:\n",
    "            print(f\"Race ID {race_id} not found in races.csv — skipping\")\n",
    "\n",
    "    except FileNotFoundError as e:\n",
    "        print(f\"Missing file in race folder {race_folder}: {e}\")\n",
    "    except Exception as e:\n",
    "        print(f\"Error processing race folder {race_folder}: {e}\")"
   ]
  },
  {
   "cell_type": "code",
   "execution_count": 40,
   "id": "e2e2ccf6-6e57-46fd-8fbf-d287e5ae9170",
   "metadata": {},
   "outputs": [
    {
     "name": "stdout",
     "output_type": "stream",
     "text": [
      "Cleaned data keys\n",
      "dict_keys(['circuitId', 'lap_times', 'gaps_to_leader', 'gaps_to_car_ahead', 'pit_stops'])\n",
      "cleaned data race laptime keys\n",
      "Index(['lap', '1', '4', '807', '815', '822', '825', '830', '832', '839', '840',\n",
      "       '842', '846', '847', '848', '852', '855', '856', '857', '858'],\n",
      "      dtype='object')\n"
     ]
    }
   ],
   "source": [
    "rand_raceID = 1100\n",
    "print(\"Cleaned data keys\")\n",
    "print(races_cleaned[rand_raceID].keys())\n",
    "print(\"cleaned data race laptime keys\")\n",
    "print(races_cleaned[rand_raceID]['lap_times'].keys())\n"
   ]
  },
  {
   "cell_type": "code",
   "execution_count": 33,
   "id": "e318fec3-f379-4267-b5bb-b3a13f433f54",
   "metadata": {},
   "outputs": [
    {
     "ename": "KeyError",
     "evalue": "'driverId'",
     "output_type": "error",
     "traceback": [
      "\u001b[31m---------------------------------------------------------------------------\u001b[39m",
      "\u001b[31mKeyError\u001b[39m                                  Traceback (most recent call last)",
      "\u001b[36mFile \u001b[39m\u001b[32m/opt/anaconda3/envs/f1_rl/lib/python3.13/site-packages/pandas/core/indexes/base.py:3805\u001b[39m, in \u001b[36mIndex.get_loc\u001b[39m\u001b[34m(self, key)\u001b[39m\n\u001b[32m   3804\u001b[39m \u001b[38;5;28;01mtry\u001b[39;00m:\n\u001b[32m-> \u001b[39m\u001b[32m3805\u001b[39m     \u001b[38;5;28;01mreturn\u001b[39;00m \u001b[38;5;28;43mself\u001b[39;49m\u001b[43m.\u001b[49m\u001b[43m_engine\u001b[49m\u001b[43m.\u001b[49m\u001b[43mget_loc\u001b[49m\u001b[43m(\u001b[49m\u001b[43mcasted_key\u001b[49m\u001b[43m)\u001b[49m\n\u001b[32m   3806\u001b[39m \u001b[38;5;28;01mexcept\u001b[39;00m \u001b[38;5;167;01mKeyError\u001b[39;00m \u001b[38;5;28;01mas\u001b[39;00m err:\n",
      "\u001b[36mFile \u001b[39m\u001b[32mindex.pyx:167\u001b[39m, in \u001b[36mpandas._libs.index.IndexEngine.get_loc\u001b[39m\u001b[34m()\u001b[39m\n",
      "\u001b[36mFile \u001b[39m\u001b[32mindex.pyx:196\u001b[39m, in \u001b[36mpandas._libs.index.IndexEngine.get_loc\u001b[39m\u001b[34m()\u001b[39m\n",
      "\u001b[36mFile \u001b[39m\u001b[32mpandas/_libs/hashtable_class_helper.pxi:7081\u001b[39m, in \u001b[36mpandas._libs.hashtable.PyObjectHashTable.get_item\u001b[39m\u001b[34m()\u001b[39m\n",
      "\u001b[36mFile \u001b[39m\u001b[32mpandas/_libs/hashtable_class_helper.pxi:7089\u001b[39m, in \u001b[36mpandas._libs.hashtable.PyObjectHashTable.get_item\u001b[39m\u001b[34m()\u001b[39m\n",
      "\u001b[31mKeyError\u001b[39m: 'driverId'",
      "\nThe above exception was the direct cause of the following exception:\n",
      "\u001b[31mKeyError\u001b[39m                                  Traceback (most recent call last)",
      "\u001b[36mCell\u001b[39m\u001b[36m \u001b[39m\u001b[32mIn[33]\u001b[39m\u001b[32m, line 21\u001b[39m\n\u001b[32m     19\u001b[39m test_lap_times = races_cleaned[race_id][\u001b[33m'\u001b[39m\u001b[33mlap_times\u001b[39m\u001b[33m'\u001b[39m]\n\u001b[32m     20\u001b[39m \u001b[38;5;66;03m# Detect pit stops in the selected race\u001b[39;00m\n\u001b[32m---> \u001b[39m\u001b[32m21\u001b[39m detected_pit_stops = \u001b[43mdetect_pit_stops\u001b[49m\u001b[43m(\u001b[49m\u001b[43mtest_lap_times\u001b[49m\u001b[43m)\u001b[49m\n\u001b[32m     22\u001b[39m \u001b[38;5;28mprint\u001b[39m(\u001b[33mf\u001b[39m\u001b[33m\"\u001b[39m\u001b[33mDetected Pit Stops for Race \u001b[39m\u001b[38;5;132;01m{\u001b[39;00mrace_id\u001b[38;5;132;01m}\u001b[39;00m\u001b[33m: \u001b[39m\u001b[38;5;132;01m{\u001b[39;00mdetected_pit_stops\u001b[38;5;132;01m}\u001b[39;00m\u001b[33m\"\u001b[39m)\n",
      "\u001b[36mCell\u001b[39m\u001b[36m \u001b[39m\u001b[32mIn[33]\u001b[39m\u001b[32m, line 3\u001b[39m, in \u001b[36mdetect_pit_stops\u001b[39m\u001b[34m(lap_times)\u001b[39m\n\u001b[32m      1\u001b[39m \u001b[38;5;28;01mdef\u001b[39;00m\u001b[38;5;250m \u001b[39m\u001b[34mdetect_pit_stops\u001b[39m(lap_times):\n\u001b[32m      2\u001b[39m     pit_stops = []\n\u001b[32m----> \u001b[39m\u001b[32m3\u001b[39m     drivers = \u001b[43mlap_times\u001b[49m\u001b[43m[\u001b[49m\u001b[33;43m'\u001b[39;49m\u001b[33;43mdriverId\u001b[39;49m\u001b[33;43m'\u001b[39;49m\u001b[43m]\u001b[49m.unique()\n\u001b[32m      5\u001b[39m     \u001b[38;5;28;01mfor\u001b[39;00m driver \u001b[38;5;129;01min\u001b[39;00m drivers:\n\u001b[32m      6\u001b[39m         driver_laps = lap_times[lap_times[\u001b[33m'\u001b[39m\u001b[33mdriverId\u001b[39m\u001b[33m'\u001b[39m] == driver].sort_values(\u001b[33m'\u001b[39m\u001b[33mlap\u001b[39m\u001b[33m'\u001b[39m)\n",
      "\u001b[36mFile \u001b[39m\u001b[32m/opt/anaconda3/envs/f1_rl/lib/python3.13/site-packages/pandas/core/frame.py:4102\u001b[39m, in \u001b[36mDataFrame.__getitem__\u001b[39m\u001b[34m(self, key)\u001b[39m\n\u001b[32m   4100\u001b[39m \u001b[38;5;28;01mif\u001b[39;00m \u001b[38;5;28mself\u001b[39m.columns.nlevels > \u001b[32m1\u001b[39m:\n\u001b[32m   4101\u001b[39m     \u001b[38;5;28;01mreturn\u001b[39;00m \u001b[38;5;28mself\u001b[39m._getitem_multilevel(key)\n\u001b[32m-> \u001b[39m\u001b[32m4102\u001b[39m indexer = \u001b[38;5;28;43mself\u001b[39;49m\u001b[43m.\u001b[49m\u001b[43mcolumns\u001b[49m\u001b[43m.\u001b[49m\u001b[43mget_loc\u001b[49m\u001b[43m(\u001b[49m\u001b[43mkey\u001b[49m\u001b[43m)\u001b[49m\n\u001b[32m   4103\u001b[39m \u001b[38;5;28;01mif\u001b[39;00m is_integer(indexer):\n\u001b[32m   4104\u001b[39m     indexer = [indexer]\n",
      "\u001b[36mFile \u001b[39m\u001b[32m/opt/anaconda3/envs/f1_rl/lib/python3.13/site-packages/pandas/core/indexes/base.py:3812\u001b[39m, in \u001b[36mIndex.get_loc\u001b[39m\u001b[34m(self, key)\u001b[39m\n\u001b[32m   3807\u001b[39m     \u001b[38;5;28;01mif\u001b[39;00m \u001b[38;5;28misinstance\u001b[39m(casted_key, \u001b[38;5;28mslice\u001b[39m) \u001b[38;5;129;01mor\u001b[39;00m (\n\u001b[32m   3808\u001b[39m         \u001b[38;5;28misinstance\u001b[39m(casted_key, abc.Iterable)\n\u001b[32m   3809\u001b[39m         \u001b[38;5;129;01mand\u001b[39;00m \u001b[38;5;28many\u001b[39m(\u001b[38;5;28misinstance\u001b[39m(x, \u001b[38;5;28mslice\u001b[39m) \u001b[38;5;28;01mfor\u001b[39;00m x \u001b[38;5;129;01min\u001b[39;00m casted_key)\n\u001b[32m   3810\u001b[39m     ):\n\u001b[32m   3811\u001b[39m         \u001b[38;5;28;01mraise\u001b[39;00m InvalidIndexError(key)\n\u001b[32m-> \u001b[39m\u001b[32m3812\u001b[39m     \u001b[38;5;28;01mraise\u001b[39;00m \u001b[38;5;167;01mKeyError\u001b[39;00m(key) \u001b[38;5;28;01mfrom\u001b[39;00m\u001b[38;5;250m \u001b[39m\u001b[34;01merr\u001b[39;00m\n\u001b[32m   3813\u001b[39m \u001b[38;5;28;01mexcept\u001b[39;00m \u001b[38;5;167;01mTypeError\u001b[39;00m:\n\u001b[32m   3814\u001b[39m     \u001b[38;5;66;03m# If we have a listlike key, _check_indexing_error will raise\u001b[39;00m\n\u001b[32m   3815\u001b[39m     \u001b[38;5;66;03m#  InvalidIndexError. Otherwise we fall through and re-raise\u001b[39;00m\n\u001b[32m   3816\u001b[39m     \u001b[38;5;66;03m#  the TypeError.\u001b[39;00m\n\u001b[32m   3817\u001b[39m     \u001b[38;5;28mself\u001b[39m._check_indexing_error(key)\n",
      "\u001b[31mKeyError\u001b[39m: 'driverId'"
     ]
    }
   ],
   "source": [
    "def detect_pit_stops(lap_times):\n",
    "    pit_stops = []\n",
    "    drivers = lap_times['driverId'].unique()\n",
    "    \n",
    "    for driver in drivers:\n",
    "        driver_laps = lap_times[lap_times['driverId'] == driver].sort_values('lap')\n",
    "        times = driver_laps['milliseconds'].values\n",
    "\n",
    "        for i in range(1, len(times)):\n",
    "            delta = times[i] - times[i-1]\n",
    "            if delta > 20000:  # Large jump suggests pit exit (~20 seconds)\n",
    "                pit_stops.append((driver, driver_laps.iloc[i]['lap']))\n",
    "\n",
    "    return pit_stops\n",
    "\n",
    "#example usage\n",
    "# Select a single race for testing\n",
    "race_id = list(races_cleaned.keys())[0]\n",
    "test_lap_times = races_cleaned[race_id]['lap_times']\n",
    "# Detect pit stops in the selected race\n",
    "detected_pit_stops = detect_pit_stops(test_lap_times)\n",
    "print(f\"Detected Pit Stops for Race {race_id}: {detected_pit_stops}\")"
   ]
  },
  {
   "cell_type": "code",
   "execution_count": null,
   "id": "559918a0-d089-4b8d-9e7b-936ab7dda2a0",
   "metadata": {},
   "outputs": [],
   "source": []
  }
 ],
 "metadata": {
  "kernelspec": {
   "display_name": "Python 3 (ipykernel)",
   "language": "python",
   "name": "python3"
  },
  "language_info": {
   "codemirror_mode": {
    "name": "ipython",
    "version": 3
   },
   "file_extension": ".py",
   "mimetype": "text/x-python",
   "name": "python",
   "nbconvert_exporter": "python",
   "pygments_lexer": "ipython3",
   "version": "3.13.2"
  }
 },
 "nbformat": 4,
 "nbformat_minor": 5
}
