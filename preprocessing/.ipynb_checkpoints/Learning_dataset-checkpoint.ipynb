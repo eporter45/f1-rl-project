{
 "cells": [
  {
   "cell_type": "markdown",
   "id": "f7acab14-d201-46a4-99d6-8b8102fbc86f",
   "metadata": {},
   "source": [
    "**Getting the hang of the datasets**"
   ]
  },
  {
   "cell_type": "code",
   "execution_count": 7,
   "id": "7ec4351c-048f-4681-a2ff-9da052370781",
   "metadata": {},
   "outputs": [],
   "source": [
    "### import dependencies\n",
    "import numpy as np\n",
    "import math as m\n",
    "import matplotlib.pyplot as plt\n",
    "import pandas as pd\n",
    "import os\n",
    "import glob\n",
    "from pathlib import Path\n",
    "\n",
    "\n",
    "\n",
    "\n"
   ]
  },
  {
   "cell_type": "code",
   "execution_count": 14,
   "id": "3ad9802b-07b0-4622-9bf3-371d119589b8",
   "metadata": {},
   "outputs": [
    {
     "name": "stdout",
     "output_type": "stream",
     "text": [
      "/Users/elliotporter/Desktop/Github/f1-rl-project\n",
      "/Users/elliotporter/Desktop/Github/f1-rl-project/data\n",
      "['/Users/elliotporter/Desktop/Github/f1-rl-project/data/circuits.csv', '/Users/elliotporter/Desktop/Github/f1-rl-project/data/status.csv', '/Users/elliotporter/Desktop/Github/f1-rl-project/data/lap_times.csv', '/Users/elliotporter/Desktop/Github/f1-rl-project/data/sprint_results.csv', '/Users/elliotporter/Desktop/Github/f1-rl-project/data/drivers.csv', '/Users/elliotporter/Desktop/Github/f1-rl-project/data/races.csv', '/Users/elliotporter/Desktop/Github/f1-rl-project/data/constructors.csv', '/Users/elliotporter/Desktop/Github/f1-rl-project/data/constructor_standings.csv', '/Users/elliotporter/Desktop/Github/f1-rl-project/data/qualifying.csv', '/Users/elliotporter/Desktop/Github/f1-rl-project/data/driver_standings.csv', '/Users/elliotporter/Desktop/Github/f1-rl-project/data/constructor_results.csv', '/Users/elliotporter/Desktop/Github/f1-rl-project/data/pit_stops.csv', '/Users/elliotporter/Desktop/Github/f1-rl-project/data/seasons.csv', '/Users/elliotporter/Desktop/Github/f1-rl-project/data/results.csv']\n"
     ]
    }
   ],
   "source": [
    "### initialize project root \n",
    "# Set project root dynamically\n",
    "project_root = Path().resolve().parent  # Adjust if needed based on file structure\n",
    "data_dir = project_root / 'data'\n",
    "print(project_root)\n",
    "print(data_dir)\n",
    "# get data file lists from data folder\n",
    "file_list = glob.glob(str(data_dir / '*.csv'))\n",
    "print(file_list)\n"
   ]
  },
  {
   "cell_type": "code",
   "execution_count": 34,
   "id": "30a6a14e-a988-4b8c-b58d-ca5f24df8891",
   "metadata": {},
   "outputs": [],
   "source": [
    "### now upload the data\n",
    "# Load each file into a dataframe\n",
    "dfs = {Path(file).stem: pd.read_csv(file) for file in file_list}\n",
    "\n",
    "# Access a specific dataframe, e.g., 'lap_times'\n",
    "lap_times = dfs.get('lap_times')"
   ]
  },
  {
   "cell_type": "code",
   "execution_count": 35,
   "id": "0c3d25c3-2dbe-477e-af7a-4f07bbb1a466",
   "metadata": {},
   "outputs": [
    {
     "name": "stdout",
     "output_type": "stream",
     "text": [
      "   raceId  driverId  lap  position      time  milliseconds\n",
      "0     841        20    1         1  1:38.109         98109\n",
      "1     841        20    2         1  1:33.006         93006\n",
      "2     841        20    3         1  1:32.713         92713\n",
      "3     841        20    4         1  1:32.803         92803\n",
      "4     841        20    5         1  1:32.342         92342\n",
      "['circuits', 'status', 'lap_times', 'sprint_results', 'drivers', 'races', 'constructors', 'constructor_standings', 'qualifying', 'driver_standings', 'constructor_results', 'pit_stops', 'seasons', 'results']\n"
     ]
    }
   ],
   "source": [
    "print(lap_times.head())\n",
    "# print filenames\n",
    "filenames = list(dfs.keys())\n",
    "print(filenames)"
   ]
  },
  {
   "cell_type": "code",
   "execution_count": 40,
   "id": "1f32d94a-d631-45e5-b8dc-bcadbafd4e0c",
   "metadata": {},
   "outputs": [
    {
     "name": "stdout",
     "output_type": "stream",
     "text": [
      "       raceId  driverId  stop  lap      time duration  milliseconds\n",
      "10000    1108       857     1   29  15:48:05   28.655         28655\n",
      "10001    1108       858     1   29  15:48:37   28.847         28847\n",
      "10002    1108       842     1   31  15:51:30   28.458         28458\n",
      "10003    1108       840     1   31  15:51:39   28.561         28561\n",
      "10004    1108       848     1   32  15:53:10   29.634         29634\n",
      "10005    1108       844     2   32  15:53:11   28.805         28805\n",
      "10006    1108       822     1   32  15:53:38   29.662         29662\n",
      "10007    1108       852     2   32  15:53:48   28.603         28603\n",
      "10008    1108       856     2   32  15:53:55   28.413         28413\n",
      "10009    1108       807     2   32  15:54:11   30.003         30003\n",
      "       raceId  driverId  lap  position      time  milliseconds\n",
      "10000     848        22   21        10  1:45.752        105752\n",
      "10001     848        22   22        10  1:45.867        105867\n",
      "10002     848        22   23        10  1:46.180        106180\n",
      "10003     848        22   24        10  1:46.187        106187\n",
      "10004     848        22   25        10  1:46.160        106160\n",
      "10005     848        22   26        10  1:46.041        106041\n",
      "10006     848        22   27         9  1:46.507        106507\n",
      "10007     848        22   28        10  2:01.135        121135\n",
      "10008     848        22   29        12  1:51.667        111667\n",
      "10009     848        22   30        12  1:45.371        105371\n"
     ]
    }
   ],
   "source": [
    "print(dfs['pit_stops'][10000:10010])\n",
    "print(dfs['lap_times'][10000:10010])"
   ]
  },
  {
   "cell_type": "code",
   "execution_count": null,
   "id": "8413c33a-660f-4897-9bfd-56e017231031",
   "metadata": {},
   "outputs": [],
   "source": []
  },
  {
   "cell_type": "code",
   "execution_count": null,
   "id": "2ea99277-162f-45fc-9974-12c2963ec842",
   "metadata": {},
   "outputs": [],
   "source": []
  }
 ],
 "metadata": {
  "kernelspec": {
   "display_name": "Python 3 (ipykernel)",
   "language": "python",
   "name": "python3"
  },
  "language_info": {
   "codemirror_mode": {
    "name": "ipython",
    "version": 3
   },
   "file_extension": ".py",
   "mimetype": "text/x-python",
   "name": "python",
   "nbconvert_exporter": "python",
   "pygments_lexer": "ipython3",
   "version": "3.13.2"
  }
 },
 "nbformat": 4,
 "nbformat_minor": 5
}
