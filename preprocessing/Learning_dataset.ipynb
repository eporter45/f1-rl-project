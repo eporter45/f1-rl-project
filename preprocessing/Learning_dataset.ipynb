{
 "cells": [
  {
   "cell_type": "markdown",
   "id": "f7acab14-d201-46a4-99d6-8b8102fbc86f",
   "metadata": {},
   "source": [
    "**Getting the hang of the datasets**"
   ]
  },
  {
   "cell_type": "code",
   "execution_count": 3,
   "id": "7ec4351c-048f-4681-a2ff-9da052370781",
   "metadata": {},
   "outputs": [],
   "source": [
    "### import dependencies\n",
    "import numpy as np\n",
    "import math as m\n",
    "import matplotlib.pyplot as plt\n",
    "import pandas as pd\n",
    "import os\n",
    "import glob\n",
    "from pathlib import Path\n",
    "\n",
    "\n",
    "\n",
    "\n"
   ]
  },
  {
   "cell_type": "code",
   "execution_count": 4,
   "id": "3ad9802b-07b0-4622-9bf3-371d119589b8",
   "metadata": {},
   "outputs": [
    {
     "name": "stdout",
     "output_type": "stream",
     "text": [
      "/Users/elliotporter/Desktop/Github/f1-rl-project\n",
      "/Users/elliotporter/Desktop/Github/f1-rl-project/data\n",
      "['/Users/elliotporter/Desktop/Github/f1-rl-project/data/circuits.csv', '/Users/elliotporter/Desktop/Github/f1-rl-project/data/status.csv', '/Users/elliotporter/Desktop/Github/f1-rl-project/data/lap_times.csv', '/Users/elliotporter/Desktop/Github/f1-rl-project/data/sprint_results.csv', '/Users/elliotporter/Desktop/Github/f1-rl-project/data/drivers.csv', '/Users/elliotporter/Desktop/Github/f1-rl-project/data/races.csv', '/Users/elliotporter/Desktop/Github/f1-rl-project/data/constructors.csv', '/Users/elliotporter/Desktop/Github/f1-rl-project/data/constructor_standings.csv', '/Users/elliotporter/Desktop/Github/f1-rl-project/data/qualifying.csv', '/Users/elliotporter/Desktop/Github/f1-rl-project/data/driver_standings.csv', '/Users/elliotporter/Desktop/Github/f1-rl-project/data/constructor_results.csv', '/Users/elliotporter/Desktop/Github/f1-rl-project/data/pit_stops.csv', '/Users/elliotporter/Desktop/Github/f1-rl-project/data/seasons.csv', '/Users/elliotporter/Desktop/Github/f1-rl-project/data/results.csv']\n"
     ]
    }
   ],
   "source": [
    "### initialize project root \n",
    "# Set project root dynamically\n",
    "project_root = Path().resolve().parent  # Adjust if needed based on file structure\n",
    "data_dir = project_root / 'data'\n",
    "print(project_root)\n",
    "print(data_dir)\n",
    "# get data file lists from data folder\n",
    "file_list = glob.glob(str(data_dir / '*.csv'))\n",
    "print(file_list)\n"
   ]
  },
  {
   "cell_type": "code",
   "execution_count": 5,
   "id": "30a6a14e-a988-4b8c-b58d-ca5f24df8891",
   "metadata": {},
   "outputs": [],
   "source": [
    "### now upload the data\n",
    "# Load each file into a dataframe\n",
    "dfs = {Path(file).stem: pd.read_csv(file) for file in file_list}\n",
    "\n",
    "# Access a specific dataframe, e.g., 'lap_times'\n",
    "lap_times = dfs.get('lap_times')"
   ]
  },
  {
   "cell_type": "code",
   "execution_count": 6,
   "id": "0c3d25c3-2dbe-477e-af7a-4f07bbb1a466",
   "metadata": {},
   "outputs": [
    {
     "name": "stdout",
     "output_type": "stream",
     "text": [
      "   raceId  driverId  lap  position      time  milliseconds\n",
      "0     841        20    1         1  1:38.109         98109\n",
      "1     841        20    2         1  1:33.006         93006\n",
      "2     841        20    3         1  1:32.713         92713\n",
      "3     841        20    4         1  1:32.803         92803\n",
      "4     841        20    5         1  1:32.342         92342\n",
      "['circuits', 'status', 'lap_times', 'sprint_results', 'drivers', 'races', 'constructors', 'constructor_standings', 'qualifying', 'driver_standings', 'constructor_results', 'pit_stops', 'seasons', 'results']\n"
     ]
    }
   ],
   "source": [
    "print(lap_times.head())\n",
    "# print filenames\n",
    "filenames = list(dfs.keys())\n",
    "print(filenames)"
   ]
  },
  {
   "cell_type": "code",
   "execution_count": 8,
   "id": "1f32d94a-d631-45e5-b8dc-bcadbafd4e0c",
   "metadata": {},
   "outputs": [
    {
     "name": "stdout",
     "output_type": "stream",
     "text": [
      "       raceId  driverId  stop  lap      time duration  milliseconds\n",
      "10000    1108       857     1   29  15:48:05   28.655         28655\n",
      "10001    1108       858     1   29  15:48:37   28.847         28847\n",
      "10002    1108       842     1   31  15:51:30   28.458         28458\n",
      "10003    1108       840     1   31  15:51:39   28.561         28561\n",
      "10004    1108       848     1   32  15:53:10   29.634         29634\n",
      "10005    1108       844     2   32  15:53:11   28.805         28805\n",
      "10006    1108       822     1   32  15:53:38   29.662         29662\n",
      "10007    1108       852     2   32  15:53:48   28.603         28603\n",
      "10008    1108       856     2   32  15:53:55   28.413         28413\n",
      "10009    1108       807     2   32  15:54:11   30.003         30003\n",
      "       raceId  driverId  lap  position      time  milliseconds\n",
      "10000     848        22   21        10  1:45.752        105752\n",
      "10001     848        22   22        10  1:45.867        105867\n",
      "10002     848        22   23        10  1:46.180        106180\n",
      "10003     848        22   24        10  1:46.187        106187\n",
      "10004     848        22   25        10  1:46.160        106160\n",
      "10005     848        22   26        10  1:46.041        106041\n",
      "10006     848        22   27         9  1:46.507        106507\n",
      "10007     848        22   28        10  2:01.135        121135\n",
      "10008     848        22   29        12  1:51.667        111667\n",
      "10009     848        22   30        12  1:45.371        105371\n"
     ]
    }
   ],
   "source": [
    "print(dfs['pit_stops'][10000:10010])\n",
    "print(dfs['lap_times'][10000:10010])"
   ]
  },
  {
   "cell_type": "code",
   "execution_count": 9,
   "id": "8413c33a-660f-4897-9bfd-56e017231031",
   "metadata": {},
   "outputs": [
    {
     "name": "stdout",
     "output_type": "stream",
     "text": [
      "       raceId  driverId  lap  position      time  milliseconds\n",
      "72130     900         3    1         1  1:42.038        102038\n",
      "72131     900         3    2         1  1:37.687         97687\n",
      "72132     900         3    3         1  1:35.765         95765\n",
      "72133     900         3    4         1  1:34.939         94939\n",
      "72134     900         3    5         1  1:35.438         95438\n"
     ]
    }
   ],
   "source": [
    "# Filter out data from 2014 onwards\n",
    "races = dfs['races']\n",
    "races = races[races['year'] >= 2014]\n",
    "\n",
    "# Keep only the race IDs from 2014 onward\n",
    "valid_race_ids = races['raceId'].unique()\n",
    "\n",
    "# Filter other datasets based on valid race IDs\n",
    "for key in dfs.keys():\n",
    "    if 'raceId' in dfs[key].columns:\n",
    "        dfs[key] = dfs[key][dfs[key]['raceId'].isin(valid_race_ids)]\n",
    "\n",
    "# Example to check lap times post-filtering\n",
    "print(dfs['lap_times'].head())"
   ]
  },
  {
   "cell_type": "code",
   "execution_count": 11,
   "id": "2ea99277-162f-45fc-9974-12c2963ec842",
   "metadata": {},
   "outputs": [
    {
     "name": "stdout",
     "output_type": "stream",
     "text": [
      "circuits:\n",
      "circuitId     0\n",
      "circuitRef    0\n",
      "name          0\n",
      "location      0\n",
      "country       0\n",
      "lat           0\n",
      "lng           0\n",
      "alt           0\n",
      "url           0\n",
      "dtype: int64\n",
      "status:\n",
      "statusId    0\n",
      "status      0\n",
      "dtype: int64\n",
      "lap_times:\n",
      "raceId          0\n",
      "driverId        0\n",
      "lap             0\n",
      "position        0\n",
      "time            0\n",
      "milliseconds    0\n",
      "dtype: int64\n",
      "sprint_results:\n",
      "resultId          0\n",
      "raceId            0\n",
      "driverId          0\n",
      "constructorId     0\n",
      "number            0\n",
      "grid              0\n",
      "position          0\n",
      "positionText      0\n",
      "positionOrder     0\n",
      "points            0\n",
      "laps              0\n",
      "time              0\n",
      "milliseconds      0\n",
      "fastestLap        0\n",
      "fastestLapTime    0\n",
      "statusId          0\n",
      "dtype: int64\n",
      "drivers:\n",
      "driverId       0\n",
      "driverRef      0\n",
      "number         0\n",
      "code           0\n",
      "forename       0\n",
      "surname        0\n",
      "dob            0\n",
      "nationality    0\n",
      "url            0\n",
      "dtype: int64\n",
      "races:\n",
      "raceId         0\n",
      "year           0\n",
      "round          0\n",
      "circuitId      0\n",
      "name           0\n",
      "date           0\n",
      "time           0\n",
      "url            0\n",
      "fp1_date       0\n",
      "fp1_time       0\n",
      "fp2_date       0\n",
      "fp2_time       0\n",
      "fp3_date       0\n",
      "fp3_time       0\n",
      "quali_date     0\n",
      "quali_time     0\n",
      "sprint_date    0\n",
      "sprint_time    0\n",
      "dtype: int64\n",
      "constructors:\n",
      "constructorId     0\n",
      "constructorRef    0\n",
      "name              0\n",
      "nationality       0\n",
      "url               0\n",
      "dtype: int64\n",
      "constructor_standings:\n",
      "constructorStandingsId    0\n",
      "raceId                    0\n",
      "constructorId             0\n",
      "points                    0\n",
      "position                  0\n",
      "positionText              0\n",
      "wins                      0\n",
      "dtype: int64\n",
      "qualifying:\n",
      "qualifyId         0\n",
      "raceId            0\n",
      "driverId          0\n",
      "constructorId     0\n",
      "number            0\n",
      "position          0\n",
      "q1                0\n",
      "q2               22\n",
      "q3               46\n",
      "dtype: int64\n",
      "driver_standings:\n",
      "driverStandingsId    0\n",
      "raceId               0\n",
      "driverId             0\n",
      "points               0\n",
      "position             0\n",
      "positionText         0\n",
      "wins                 0\n",
      "dtype: int64\n",
      "constructor_results:\n",
      "constructorResultsId    0\n",
      "raceId                  0\n",
      "constructorId           0\n",
      "points                  0\n",
      "status                  0\n",
      "dtype: int64\n",
      "pit_stops:\n",
      "raceId          0\n",
      "driverId        0\n",
      "stop            0\n",
      "lap             0\n",
      "time            0\n",
      "duration        0\n",
      "milliseconds    0\n",
      "dtype: int64\n",
      "seasons:\n",
      "year    0\n",
      "url     0\n",
      "dtype: int64\n",
      "results:\n",
      "resultId           0\n",
      "raceId             0\n",
      "driverId           0\n",
      "constructorId      0\n",
      "number             0\n",
      "grid               0\n",
      "position           0\n",
      "positionText       0\n",
      "positionOrder      0\n",
      "points             0\n",
      "laps               0\n",
      "time               0\n",
      "milliseconds       0\n",
      "fastestLap         0\n",
      "rank               0\n",
      "fastestLapTime     0\n",
      "fastestLapSpeed    0\n",
      "statusId           0\n",
      "dtype: int64\n"
     ]
    },
    {
     "name": "stderr",
     "output_type": "stream",
     "text": [
      "/var/folders/xf/y998_q_j6cj822z0x0x3gl_40000gn/T/ipykernel_94229/1269018057.py:5: FutureWarning: DataFrame.fillna with 'method' is deprecated and will raise in a future version. Use obj.ffill() or obj.bfill() instead.\n",
      "  dfs['lap_times'].fillna(method='ffill', inplace=True)  # Forward fill for lap times\n",
      "/var/folders/xf/y998_q_j6cj822z0x0x3gl_40000gn/T/ipykernel_94229/1269018057.py:5: SettingWithCopyWarning: \n",
      "A value is trying to be set on a copy of a slice from a DataFrame\n",
      "\n",
      "See the caveats in the documentation: https://pandas.pydata.org/pandas-docs/stable/user_guide/indexing.html#returning-a-view-versus-a-copy\n",
      "  dfs['lap_times'].fillna(method='ffill', inplace=True)  # Forward fill for lap times\n"
     ]
    },
    {
     "ename": "ValueError",
     "evalue": "expected hh:mm:ss format before .",
     "output_type": "error",
     "traceback": [
      "\u001b[31m---------------------------------------------------------------------------\u001b[39m",
      "\u001b[31mValueError\u001b[39m                                Traceback (most recent call last)",
      "\u001b[36mFile \u001b[39m\u001b[32mtimedeltas.pyx:438\u001b[39m, in \u001b[36mpandas._libs.tslibs.timedeltas.array_to_timedelta64\u001b[39m\u001b[34m()\u001b[39m\n",
      "\u001b[36mFile \u001b[39m\u001b[32mtimedeltas.pyx:470\u001b[39m, in \u001b[36mpandas._libs.tslibs.timedeltas._item_to_timedelta64_fastpath\u001b[39m\u001b[34m()\u001b[39m\n",
      "\u001b[36mFile \u001b[39m\u001b[32mtimedeltas.pyx:591\u001b[39m, in \u001b[36mpandas._libs.tslibs.timedeltas.parse_timedelta_string\u001b[39m\u001b[34m()\u001b[39m\n",
      "\u001b[31mValueError\u001b[39m: expected hh:mm:ss format before .",
      "\nDuring handling of the above exception, another exception occurred:\n",
      "\u001b[31mValueError\u001b[39m                                Traceback (most recent call last)",
      "\u001b[36mCell\u001b[39m\u001b[36m \u001b[39m\u001b[32mIn[11]\u001b[39m\u001b[32m, line 6\u001b[39m\n\u001b[32m      3\u001b[39m     \u001b[38;5;28mprint\u001b[39m(dfs[key].isnull().sum())\n\u001b[32m      5\u001b[39m dfs[\u001b[33m'\u001b[39m\u001b[33mlap_times\u001b[39m\u001b[33m'\u001b[39m].fillna(method=\u001b[33m'\u001b[39m\u001b[33mffill\u001b[39m\u001b[33m'\u001b[39m, inplace=\u001b[38;5;28;01mTrue\u001b[39;00m)  \u001b[38;5;66;03m# Forward fill for lap times\u001b[39;00m\n\u001b[32m----> \u001b[39m\u001b[32m6\u001b[39m dfs[\u001b[33m'\u001b[39m\u001b[33mlap_times\u001b[39m\u001b[33m'\u001b[39m][\u001b[33m'\u001b[39m\u001b[33mtime\u001b[39m\u001b[33m'\u001b[39m] = \u001b[43mpd\u001b[49m\u001b[43m.\u001b[49m\u001b[43mto_timedelta\u001b[49m\u001b[43m(\u001b[49m\u001b[43mdfs\u001b[49m\u001b[43m[\u001b[49m\u001b[33;43m'\u001b[39;49m\u001b[33;43mlap_times\u001b[39;49m\u001b[33;43m'\u001b[39;49m\u001b[43m]\u001b[49m\u001b[43m[\u001b[49m\u001b[33;43m'\u001b[39;49m\u001b[33;43mtime\u001b[39;49m\u001b[33;43m'\u001b[39;49m\u001b[43m]\u001b[49m\u001b[43m)\u001b[49m\n\u001b[32m      7\u001b[39m dfs[\u001b[33m'\u001b[39m\u001b[33mpit_stops\u001b[39m\u001b[33m'\u001b[39m][\u001b[33m'\u001b[39m\u001b[33mcompound\u001b[39m\u001b[33m'\u001b[39m] = dfs[\u001b[33m'\u001b[39m\u001b[33mpit_stops\u001b[39m\u001b[33m'\u001b[39m][\u001b[33m'\u001b[39m\u001b[33mcompound\u001b[39m\u001b[33m'\u001b[39m].str.capitalize()\n",
      "\u001b[36mFile \u001b[39m\u001b[32m/opt/anaconda3/envs/f1_rl/lib/python3.13/site-packages/pandas/core/tools/timedeltas.py:201\u001b[39m, in \u001b[36mto_timedelta\u001b[39m\u001b[34m(arg, unit, errors)\u001b[39m\n\u001b[32m    199\u001b[39m     \u001b[38;5;28;01mreturn\u001b[39;00m arg\n\u001b[32m    200\u001b[39m \u001b[38;5;28;01melif\u001b[39;00m \u001b[38;5;28misinstance\u001b[39m(arg, ABCSeries):\n\u001b[32m--> \u001b[39m\u001b[32m201\u001b[39m     values = \u001b[43m_convert_listlike\u001b[49m\u001b[43m(\u001b[49m\u001b[43marg\u001b[49m\u001b[43m.\u001b[49m\u001b[43m_values\u001b[49m\u001b[43m,\u001b[49m\u001b[43m \u001b[49m\u001b[43munit\u001b[49m\u001b[43m=\u001b[49m\u001b[43munit\u001b[49m\u001b[43m,\u001b[49m\u001b[43m \u001b[49m\u001b[43merrors\u001b[49m\u001b[43m=\u001b[49m\u001b[43merrors\u001b[49m\u001b[43m)\u001b[49m\n\u001b[32m    202\u001b[39m     \u001b[38;5;28;01mreturn\u001b[39;00m arg._constructor(values, index=arg.index, name=arg.name)\n\u001b[32m    203\u001b[39m \u001b[38;5;28;01melif\u001b[39;00m \u001b[38;5;28misinstance\u001b[39m(arg, ABCIndex):\n",
      "\u001b[36mFile \u001b[39m\u001b[32m/opt/anaconda3/envs/f1_rl/lib/python3.13/site-packages/pandas/core/tools/timedeltas.py:266\u001b[39m, in \u001b[36m_convert_listlike\u001b[39m\u001b[34m(arg, unit, errors, name)\u001b[39m\n\u001b[32m    263\u001b[39m     \u001b[38;5;28;01mreturn\u001b[39;00m arg\n\u001b[32m    265\u001b[39m \u001b[38;5;28;01mtry\u001b[39;00m:\n\u001b[32m--> \u001b[39m\u001b[32m266\u001b[39m     td64arr = \u001b[43msequence_to_td64ns\u001b[49m\u001b[43m(\u001b[49m\u001b[43marg\u001b[49m\u001b[43m,\u001b[49m\u001b[43m \u001b[49m\u001b[43munit\u001b[49m\u001b[43m=\u001b[49m\u001b[43munit\u001b[49m\u001b[43m,\u001b[49m\u001b[43m \u001b[49m\u001b[43merrors\u001b[49m\u001b[43m=\u001b[49m\u001b[43merrors\u001b[49m\u001b[43m,\u001b[49m\u001b[43m \u001b[49m\u001b[43mcopy\u001b[49m\u001b[43m=\u001b[49m\u001b[38;5;28;43;01mFalse\u001b[39;49;00m\u001b[43m)\u001b[49m[\u001b[32m0\u001b[39m]\n\u001b[32m    267\u001b[39m \u001b[38;5;28;01mexcept\u001b[39;00m \u001b[38;5;167;01mValueError\u001b[39;00m:\n\u001b[32m    268\u001b[39m     \u001b[38;5;28;01mif\u001b[39;00m errors == \u001b[33m\"\u001b[39m\u001b[33mignore\u001b[39m\u001b[33m\"\u001b[39m:\n",
      "\u001b[36mFile \u001b[39m\u001b[32m/opt/anaconda3/envs/f1_rl/lib/python3.13/site-packages/pandas/core/arrays/timedeltas.py:1050\u001b[39m, in \u001b[36msequence_to_td64ns\u001b[39m\u001b[34m(data, copy, unit, errors)\u001b[39m\n\u001b[32m   1047\u001b[39m \u001b[38;5;66;03m# Convert whatever we have into timedelta64[ns] dtype\u001b[39;00m\n\u001b[32m   1048\u001b[39m \u001b[38;5;28;01mif\u001b[39;00m data.dtype == \u001b[38;5;28mobject\u001b[39m \u001b[38;5;129;01mor\u001b[39;00m is_string_dtype(data.dtype):\n\u001b[32m   1049\u001b[39m     \u001b[38;5;66;03m# no need to make a copy, need to convert if string-dtyped\u001b[39;00m\n\u001b[32m-> \u001b[39m\u001b[32m1050\u001b[39m     data = \u001b[43m_objects_to_td64ns\u001b[49m\u001b[43m(\u001b[49m\u001b[43mdata\u001b[49m\u001b[43m,\u001b[49m\u001b[43m \u001b[49m\u001b[43munit\u001b[49m\u001b[43m=\u001b[49m\u001b[43munit\u001b[49m\u001b[43m,\u001b[49m\u001b[43m \u001b[49m\u001b[43merrors\u001b[49m\u001b[43m=\u001b[49m\u001b[43merrors\u001b[49m\u001b[43m)\u001b[49m\n\u001b[32m   1051\u001b[39m     copy = \u001b[38;5;28;01mFalse\u001b[39;00m\n\u001b[32m   1053\u001b[39m \u001b[38;5;28;01melif\u001b[39;00m is_integer_dtype(data.dtype):\n\u001b[32m   1054\u001b[39m     \u001b[38;5;66;03m# treat as multiples of the given unit\u001b[39;00m\n",
      "\u001b[36mFile \u001b[39m\u001b[32m/opt/anaconda3/envs/f1_rl/lib/python3.13/site-packages/pandas/core/arrays/timedeltas.py:1166\u001b[39m, in \u001b[36m_objects_to_td64ns\u001b[39m\u001b[34m(data, unit, errors)\u001b[39m\n\u001b[32m   1163\u001b[39m \u001b[38;5;66;03m# coerce Index to np.ndarray, converting string-dtype if necessary\u001b[39;00m\n\u001b[32m   1164\u001b[39m values = np.asarray(data, dtype=np.object_)\n\u001b[32m-> \u001b[39m\u001b[32m1166\u001b[39m result = \u001b[43marray_to_timedelta64\u001b[49m\u001b[43m(\u001b[49m\u001b[43mvalues\u001b[49m\u001b[43m,\u001b[49m\u001b[43m \u001b[49m\u001b[43munit\u001b[49m\u001b[43m=\u001b[49m\u001b[43munit\u001b[49m\u001b[43m,\u001b[49m\u001b[43m \u001b[49m\u001b[43merrors\u001b[49m\u001b[43m=\u001b[49m\u001b[43merrors\u001b[49m\u001b[43m)\u001b[49m\n\u001b[32m   1167\u001b[39m \u001b[38;5;28;01mreturn\u001b[39;00m result.view(\u001b[33m\"\u001b[39m\u001b[33mtimedelta64[ns]\u001b[39m\u001b[33m\"\u001b[39m)\n",
      "\u001b[36mFile \u001b[39m\u001b[32mtimedeltas.pyx:452\u001b[39m, in \u001b[36mpandas._libs.tslibs.timedeltas.array_to_timedelta64\u001b[39m\u001b[34m()\u001b[39m\n",
      "\u001b[36mFile \u001b[39m\u001b[32mtimedeltas.pyx:491\u001b[39m, in \u001b[36mpandas._libs.tslibs.timedeltas._item_to_timedelta64\u001b[39m\u001b[34m()\u001b[39m\n",
      "\u001b[36mFile \u001b[39m\u001b[32mtimedeltas.pyx:482\u001b[39m, in \u001b[36mpandas._libs.tslibs.timedeltas._item_to_timedelta64\u001b[39m\u001b[34m()\u001b[39m\n",
      "\u001b[36mFile \u001b[39m\u001b[32mtimedeltas.pyx:361\u001b[39m, in \u001b[36mpandas._libs.tslibs.timedeltas.convert_to_timedelta64\u001b[39m\u001b[34m()\u001b[39m\n",
      "\u001b[36mFile \u001b[39m\u001b[32mtimedeltas.pyx:591\u001b[39m, in \u001b[36mpandas._libs.tslibs.timedeltas.parse_timedelta_string\u001b[39m\u001b[34m()\u001b[39m\n",
      "\u001b[31mValueError\u001b[39m: expected hh:mm:ss format before ."
     ]
    }
   ],
   "source": [
    "for key in dfs.keys():\n",
    "    print(f\"{key}:\")\n",
    "    print(dfs[key].isnull().sum())\n",
    "\n",
    "dfs['lap_times'].fillna(method='ffill', inplace=True)  # Forward fill for lap times\n",
    "dfs['lap_times']['time'] = pd.to_timedelta(dfs['lap_times']['time'])\n",
    "dfs['pit_stops']['compound'] = dfs['pit_stops']['compound'].str.capitalize()\n"
   ]
  },
  {
   "cell_type": "code",
   "execution_count": 12,
   "id": "da6cb7a9-d02e-4815-ab37-d20aa578b354",
   "metadata": {},
   "outputs": [],
   "source": [
    "combined = dfs['lap_times'].merge(\n",
    "    dfs['races'][['raceId', 'year', 'round', 'circuitId']],\n",
    "    on='raceId'\n",
    ").merge(\n",
    "    dfs['pit_stops'][['raceId', 'driverId', 'stop', 'milliseconds']],\n",
    "    on=['raceId', 'driverId'],\n",
    "    how='left'\n",
    ")"
   ]
  },
  {
   "cell_type": "code",
   "execution_count": 13,
   "id": "31f64a5d-8cb1-4876-98d2-28fab76410c2",
   "metadata": {},
   "outputs": [
    {
     "name": "stdout",
     "output_type": "stream",
     "text": [
      "   raceId  driverId  lap  position      time  milliseconds_x  year  round  \\\n",
      "0     900         3    1         1  1:42.038          102038  2014      1   \n",
      "1     900         3    1         1  1:42.038          102038  2014      1   \n",
      "2     900         3    2         1  1:37.687           97687  2014      1   \n",
      "3     900         3    2         1  1:37.687           97687  2014      1   \n",
      "4     900         3    3         1  1:35.765           95765  2014      1   \n",
      "\n",
      "   circuitId  stop  milliseconds_y  \n",
      "0          1   1.0         24331.0  \n",
      "1          1   2.0         23673.0  \n",
      "2          1   1.0         24331.0  \n",
      "3          1   2.0         23673.0  \n",
      "4          1   1.0         24331.0  \n"
     ]
    }
   ],
   "source": [
    "print(combined.head())"
   ]
  },
  {
   "cell_type": "code",
   "execution_count": 16,
   "id": "bf51b35a-8534-415b-9eb4-5bfbfbf02957",
   "metadata": {},
   "outputs": [
    {
     "name": "stdout",
     "output_type": "stream",
     "text": [
      "        raceId  driverId  lap  position      time  milliseconds_x  year  \\\n",
      "0          900         3    1         1  1:42.038          102038  2014   \n",
      "1          900         3    1         1  1:42.038          102038  2014   \n",
      "114        900       817    1         2  1:43.549          103549  2014   \n",
      "115        900       817    1         2  1:43.549          103549  2014   \n",
      "228        900       825    1         3  1:45.402          105402  2014   \n",
      "...        ...       ...  ...       ...       ...             ...   ...   \n",
      "486702    1144       862    1        16  1:41.564          101564  2024   \n",
      "486759    1144       852    1        17  1:42.007          102007  2024   \n",
      "486816    1144       861    1        18  1:42.506          102506  2024   \n",
      "486842    1144       857    1        19  1:43.757          103757  2024   \n",
      "486843    1144       857    1        19  1:43.757          103757  2024   \n",
      "\n",
      "        round  circuitId  stop  milliseconds_y  \n",
      "0           1          1   1.0         24331.0  \n",
      "1           1          1   2.0         23673.0  \n",
      "114         1          1   1.0         22994.0  \n",
      "115         1          1   2.0         22427.0  \n",
      "228         1          1   1.0         23150.0  \n",
      "...       ...        ...   ...             ...  \n",
      "486702     24         24   1.0         22080.0  \n",
      "486759     24         24   1.0         21869.0  \n",
      "486816     24         24   1.0         24941.0  \n",
      "486842     24         24   1.0         23582.0  \n",
      "486843     24         24   2.0         32774.0  \n",
      "\n",
      "[8549 rows x 11 columns]\n",
      "        raceId  driverId  lap  position      time  milliseconds_x  year  \\\n",
      "0          900         3    1         1  1:42.038          102038  2014   \n",
      "1          900         3    1         1  1:42.038          102038  2014   \n",
      "114        900       817    1         2  1:43.549          103549  2014   \n",
      "115        900       817    1         2  1:43.549          103549  2014   \n",
      "228        900       825    1         3  1:45.402          105402  2014   \n",
      "...        ...       ...  ...       ...       ...             ...   ...   \n",
      "486222    1144       859    1        10  1:39.017           99017  2024   \n",
      "486531    1144       855    1        14  1:40.718          100718  2024   \n",
      "486532    1144       855    1        14  1:40.718          100718  2024   \n",
      "486842    1144       857    1        19  1:43.757          103757  2024   \n",
      "486843    1144       857    1        19  1:43.757          103757  2024   \n",
      "\n",
      "        round  circuitId  stop  milliseconds_y  \n",
      "0           1          1   1.0         24331.0  \n",
      "1           1          1   2.0         23673.0  \n",
      "114         1          1   1.0         22994.0  \n",
      "115         1          1   2.0         22427.0  \n",
      "228         1          1   1.0         23150.0  \n",
      "...       ...        ...   ...             ...  \n",
      "486222     24         24   3.0         32317.0  \n",
      "486531     24         24   1.0         23024.0  \n",
      "486532     24         24   2.0         28765.0  \n",
      "486842     24         24   1.0         23582.0  \n",
      "486843     24         24   2.0         32774.0  \n",
      "\n",
      "[6716 rows x 11 columns]\n"
     ]
    }
   ],
   "source": [
    "lap_1 = combined[combined['lap'] == 1]\n",
    "print(lap_1)\n",
    "duplicates = lap_1[lap_1.duplicated(subset=['raceId', 'driverId', 'lap'], keep=False)]\n",
    "print(duplicates)\n",
    "combined = combined.drop_duplicates(subset=['raceId', 'driverId', 'lap'])\n"
   ]
  },
  {
   "cell_type": "code",
   "execution_count": 17,
   "id": "e96f6cd9-fcc4-477b-b7f6-f2479a391ef1",
   "metadata": {},
   "outputs": [
    {
     "name": "stdout",
     "output_type": "stream",
     "text": [
      "   raceId  driverId  lap  position      time  milliseconds_x  year  round  \\\n",
      "0     900         3    1         1  1:42.038          102038  2014      1   \n",
      "2     900         3    2         1  1:37.687           97687  2014      1   \n",
      "4     900         3    3         1  1:35.765           95765  2014      1   \n",
      "6     900         3    4         1  1:34.939           94939  2014      1   \n",
      "8     900         3    5         1  1:35.438           95438  2014      1   \n",
      "\n",
      "   circuitId  stop  milliseconds_y  \n",
      "0          1   1.0         24331.0  \n",
      "2          1   1.0         24331.0  \n",
      "4          1   1.0         24331.0  \n",
      "6          1   1.0         24331.0  \n",
      "8          1   1.0         24331.0  \n"
     ]
    }
   ],
   "source": [
    "print(combined.head())"
   ]
  },
  {
   "cell_type": "code",
   "execution_count": null,
   "id": "9931ab4f-162b-4d9b-b277-103ddd57bd87",
   "metadata": {},
   "outputs": [],
   "source": []
  }
 ],
 "metadata": {
  "kernelspec": {
   "display_name": "Python 3 (ipykernel)",
   "language": "python",
   "name": "python3"
  },
  "language_info": {
   "codemirror_mode": {
    "name": "ipython",
    "version": 3
   },
   "file_extension": ".py",
   "mimetype": "text/x-python",
   "name": "python",
   "nbconvert_exporter": "python",
   "pygments_lexer": "ipython3",
   "version": "3.13.2"
  }
 },
 "nbformat": 4,
 "nbformat_minor": 5
}
